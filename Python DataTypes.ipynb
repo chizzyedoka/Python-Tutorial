{
 "cells": [
  {
   "cell_type": "markdown",
   "id": "20d7888e",
   "metadata": {},
   "source": [
    "### Python Data Types"
   ]
  },
  {
   "cell_type": "markdown",
   "id": "d479b5f6",
   "metadata": {},
   "source": [
    "1. integer\n",
    "2. float\n",
    "3. string\n",
    "4. list\n",
    "5. tuple\n",
    "6. set\n",
    "7. dictionary\n",
    "8. Boolean"
   ]
  },
  {
   "cell_type": "code",
   "execution_count": 1,
   "id": "f237155f",
   "metadata": {},
   "outputs": [],
   "source": [
    "age = 20 # integer"
   ]
  },
  {
   "cell_type": "code",
   "execution_count": 2,
   "id": "92aabea0",
   "metadata": {},
   "outputs": [
    {
     "name": "stdout",
     "output_type": "stream",
     "text": [
      "20\n"
     ]
    }
   ],
   "source": [
    "print(age)"
   ]
  },
  {
   "cell_type": "code",
   "execution_count": 3,
   "id": "8b5857bb",
   "metadata": {},
   "outputs": [
    {
     "name": "stdout",
     "output_type": "stream",
     "text": [
      "52.3\n"
     ]
    }
   ],
   "source": [
    "# float\n",
    "height = 52.3\n",
    "print(height)"
   ]
  },
  {
   "cell_type": "code",
   "execution_count": 4,
   "id": "749ac5b5",
   "metadata": {},
   "outputs": [
    {
     "data": {
      "text/plain": [
       "float"
      ]
     },
     "execution_count": 4,
     "metadata": {},
     "output_type": "execute_result"
    }
   ],
   "source": [
    "type(height)"
   ]
  },
  {
   "cell_type": "code",
   "execution_count": 5,
   "id": "dc9f7ed2",
   "metadata": {},
   "outputs": [
    {
     "data": {
      "text/plain": [
       "int"
      ]
     },
     "execution_count": 5,
     "metadata": {},
     "output_type": "execute_result"
    }
   ],
   "source": [
    "type(age)"
   ]
  },
  {
   "cell_type": "code",
   "execution_count": 6,
   "id": "566c2681",
   "metadata": {},
   "outputs": [
    {
     "name": "stdout",
     "output_type": "stream",
     "text": [
      "kazzim\n"
     ]
    }
   ],
   "source": [
    "name = \"kazzim\"\n",
    "print(name)"
   ]
  },
  {
   "cell_type": "code",
   "execution_count": 7,
   "id": "af9e0c2d",
   "metadata": {},
   "outputs": [
    {
     "data": {
      "text/plain": [
       "str"
      ]
     },
     "execution_count": 7,
     "metadata": {},
     "output_type": "execute_result"
    }
   ],
   "source": [
    "type(name)"
   ]
  },
  {
   "cell_type": "code",
   "execution_count": 8,
   "id": "706902d6",
   "metadata": {},
   "outputs": [
    {
     "name": "stdout",
     "output_type": "stream",
     "text": [
      "[57, 56, 55, 30]\n"
     ]
    }
   ],
   "source": [
    "# list or array\n",
    "student_ages = [57,56,55,30]\n",
    "print(student_ages)"
   ]
  },
  {
   "cell_type": "code",
   "execution_count": 9,
   "id": "b21dfaea",
   "metadata": {},
   "outputs": [
    {
     "data": {
      "text/plain": [
       "list"
      ]
     },
     "execution_count": 9,
     "metadata": {},
     "output_type": "execute_result"
    }
   ],
   "source": [
    "type(student_ages)"
   ]
  },
  {
   "cell_type": "code",
   "execution_count": 10,
   "id": "f7b5be44",
   "metadata": {},
   "outputs": [
    {
     "name": "stdout",
     "output_type": "stream",
     "text": [
      "['Biola', 'Femi', 'Tola']\n"
     ]
    }
   ],
   "source": [
    "student_names = [\"Biola\", \"Femi\", \"Tola\"]\n",
    "print(student_names)"
   ]
  },
  {
   "cell_type": "code",
   "execution_count": 11,
   "id": "cd7b38a9",
   "metadata": {},
   "outputs": [],
   "source": [
    "lst1 = [\"Dami\", \"Kuye\", 10, 68.5]"
   ]
  },
  {
   "cell_type": "code",
   "execution_count": 12,
   "id": "e036d7e6",
   "metadata": {},
   "outputs": [
    {
     "data": {
      "text/plain": [
       "['Dami', 'Kuye', 10, 68.5]"
      ]
     },
     "execution_count": 12,
     "metadata": {},
     "output_type": "execute_result"
    }
   ],
   "source": [
    "lst1 # we can store different data types in a list"
   ]
  },
  {
   "cell_type": "code",
   "execution_count": 13,
   "id": "0f6072c5",
   "metadata": {},
   "outputs": [
    {
     "name": "stdout",
     "output_type": "stream",
     "text": [
      "('Femi', 20)\n"
     ]
    }
   ],
   "source": [
    "# tuple\n",
    "person = (\"Femi\", 20)\n",
    "print(person)"
   ]
  },
  {
   "cell_type": "code",
   "execution_count": 14,
   "id": "0069ee66",
   "metadata": {},
   "outputs": [
    {
     "data": {
      "text/plain": [
       "tuple"
      ]
     },
     "execution_count": 14,
     "metadata": {},
     "output_type": "execute_result"
    }
   ],
   "source": [
    "type(person)"
   ]
  },
  {
   "cell_type": "code",
   "execution_count": 15,
   "id": "997dbf92",
   "metadata": {},
   "outputs": [
    {
     "data": {
      "text/plain": [
       "[1, 1, 2, 3, 4, 5, 6, 6, 6]"
      ]
     },
     "execution_count": 15,
     "metadata": {},
     "output_type": "execute_result"
    }
   ],
   "source": [
    "lst2 = [1,1,2,3,4,5,6,6,6]\n",
    "lst2"
   ]
  },
  {
   "cell_type": "code",
   "execution_count": 16,
   "id": "fed4f729",
   "metadata": {},
   "outputs": [
    {
     "data": {
      "text/plain": [
       "{1, 2, 3, 4, 5, 6}"
      ]
     },
     "execution_count": 16,
     "metadata": {},
     "output_type": "execute_result"
    }
   ],
   "source": [
    "set1 = set([1,1,2,3,4,5,6,6,6])\n",
    "set1"
   ]
  },
  {
   "cell_type": "code",
   "execution_count": 17,
   "id": "f1e0c0c6",
   "metadata": {},
   "outputs": [],
   "source": [
    "# create like this --> set([])"
   ]
  },
  {
   "cell_type": "code",
   "execution_count": 18,
   "id": "43314e81",
   "metadata": {},
   "outputs": [],
   "source": [
    "# creating a list\n",
    "groceries = list()"
   ]
  },
  {
   "cell_type": "code",
   "execution_count": 19,
   "id": "1cdec99d",
   "metadata": {},
   "outputs": [
    {
     "data": {
      "text/plain": [
       "[]"
      ]
     },
     "execution_count": 19,
     "metadata": {},
     "output_type": "execute_result"
    }
   ],
   "source": [
    "groceries"
   ]
  },
  {
   "cell_type": "code",
   "execution_count": 20,
   "id": "16ab80eb",
   "metadata": {},
   "outputs": [],
   "source": [
    "groceries.append(\"Toothpaste\")"
   ]
  },
  {
   "cell_type": "code",
   "execution_count": 21,
   "id": "f12df344",
   "metadata": {},
   "outputs": [],
   "source": [
    "groceries.append('Fruits')"
   ]
  },
  {
   "cell_type": "code",
   "execution_count": 22,
   "id": "29f55a17",
   "metadata": {},
   "outputs": [
    {
     "name": "stdout",
     "output_type": "stream",
     "text": [
      "['Toothpaste', 'Fruits']\n"
     ]
    }
   ],
   "source": [
    "print(groceries)"
   ]
  },
  {
   "cell_type": "code",
   "execution_count": 23,
   "id": "beef002e",
   "metadata": {},
   "outputs": [
    {
     "data": {
      "text/plain": [
       "set()"
      ]
     },
     "execution_count": 23,
     "metadata": {},
     "output_type": "execute_result"
    }
   ],
   "source": [
    "unique_numbers = set()\n",
    "unique_numbers"
   ]
  },
  {
   "cell_type": "code",
   "execution_count": 24,
   "id": "d33f02b5",
   "metadata": {},
   "outputs": [],
   "source": [
    "unique_numbers.add(1)\n",
    "unique_numbers.add(2)\n",
    "unique_numbers.add(1)\n",
    "unique_numbers.add(2)"
   ]
  },
  {
   "cell_type": "code",
   "execution_count": 25,
   "id": "34c00cbc",
   "metadata": {},
   "outputs": [
    {
     "name": "stdout",
     "output_type": "stream",
     "text": [
      "{1, 2}\n"
     ]
    }
   ],
   "source": [
    "print(unique_numbers)"
   ]
  },
  {
   "cell_type": "code",
   "execution_count": 26,
   "id": "3022688e",
   "metadata": {},
   "outputs": [],
   "source": [
    "# dictionary\n",
    "students = {\"Femi\": 10, \"Tola\": 12, \"Funmi\": 11}"
   ]
  },
  {
   "cell_type": "code",
   "execution_count": 27,
   "id": "09e9d052",
   "metadata": {},
   "outputs": [
    {
     "name": "stdout",
     "output_type": "stream",
     "text": [
      "{'Femi': 10, 'Tola': 12, 'Funmi': 11}\n"
     ]
    }
   ],
   "source": [
    "print(students)"
   ]
  },
  {
   "cell_type": "code",
   "execution_count": 28,
   "id": "11afc21b",
   "metadata": {},
   "outputs": [],
   "source": [
    "words_to_numbers = dict()"
   ]
  }
 ],
 "metadata": {
  "kernelspec": {
   "display_name": "Python 3",
   "language": "python",
   "name": "python3"
  },
  "language_info": {
   "codemirror_mode": {
    "name": "ipython",
    "version": 3
   },
   "file_extension": ".py",
   "mimetype": "text/x-python",
   "name": "python",
   "nbconvert_exporter": "python",
   "pygments_lexer": "ipython3",
   "version": "3.8.8"
  }
 },
 "nbformat": 4,
 "nbformat_minor": 5
}
